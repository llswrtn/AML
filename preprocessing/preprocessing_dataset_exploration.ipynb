{
 "cells": [
  {
   "cell_type": "code",
   "execution_count": 115,
   "id": "c10efd89-f0fd-407d-8962-c141ad11758d",
   "metadata": {},
   "outputs": [],
   "source": [
    "import ast\n",
    "import matplotlib.pyplot as plt\n",
    "import numpy as np\n",
    "import pandas as pd\n",
    "from sklearn.cluster import KMeans\n",
    "from sklearn.metrics.pairwise import pairwise_distances_argmin"
   ]
  },
  {
   "cell_type": "code",
   "execution_count": 5,
   "id": "efe7b6b3-aa78-4ba3-8e64-c555e269be32",
   "metadata": {},
   "outputs": [],
   "source": [
    "CLEAN_DATA_PATH = '/media/luisa/Volume/AML/train_image_level_clean_paths.csv'"
   ]
  },
  {
   "cell_type": "code",
   "execution_count": 11,
   "id": "c8e6023a-76c7-42ca-b8ff-871b992aa154",
   "metadata": {},
   "outputs": [],
   "source": [
    "clean_data = pd.read_csv(CLEAN_DATA_PATH )\n",
    "clean_data = clean_data.drop(columns= ['Unnamed: 0'])"
   ]
  },
  {
   "cell_type": "code",
   "execution_count": 12,
   "id": "a99ee70e-2d2a-4d9e-b853-2a0a61874a80",
   "metadata": {},
   "outputs": [
    {
     "data": {
      "text/html": [
       "<div>\n",
       "<style scoped>\n",
       "    .dataframe tbody tr th:only-of-type {\n",
       "        vertical-align: middle;\n",
       "    }\n",
       "\n",
       "    .dataframe tbody tr th {\n",
       "        vertical-align: top;\n",
       "    }\n",
       "\n",
       "    .dataframe thead th {\n",
       "        text-align: right;\n",
       "    }\n",
       "</style>\n",
       "<table border=\"1\" class=\"dataframe\">\n",
       "  <thead>\n",
       "    <tr style=\"text-align: right;\">\n",
       "      <th></th>\n",
       "      <th>id</th>\n",
       "      <th>boxes</th>\n",
       "      <th>label</th>\n",
       "      <th>StudyInstanceUID</th>\n",
       "      <th>study_label</th>\n",
       "      <th>path</th>\n",
       "      <th>image</th>\n",
       "      <th>image_size</th>\n",
       "    </tr>\n",
       "  </thead>\n",
       "  <tbody>\n",
       "    <tr>\n",
       "      <th>0</th>\n",
       "      <td>000a312787f2_image</td>\n",
       "      <td>[{'x': 789.28836, 'y': 582.43035, 'width': 102...</td>\n",
       "      <td>opacity 1 789.28836 582.43035 1815.94498 2499....</td>\n",
       "      <td>5776db0cec75</td>\n",
       "      <td>Typical Appearance</td>\n",
       "      <td>/media/luisa/Volume/AML/siim-covid19-detection...</td>\n",
       "      <td>000a312787f2.dcm</td>\n",
       "      <td>(3488, 4256)</td>\n",
       "    </tr>\n",
       "    <tr>\n",
       "      <th>1</th>\n",
       "      <td>000c3a3f293f_image</td>\n",
       "      <td>NaN</td>\n",
       "      <td>none 1 0 0 1 1</td>\n",
       "      <td>ff0879eb20ed</td>\n",
       "      <td>Negative for Pneumonia</td>\n",
       "      <td>/media/luisa/Volume/AML/siim-covid19-detection...</td>\n",
       "      <td>000c3a3f293f.dcm</td>\n",
       "      <td>(2320, 2832)</td>\n",
       "    </tr>\n",
       "    <tr>\n",
       "      <th>2</th>\n",
       "      <td>0012ff7358bc_image</td>\n",
       "      <td>[{'x': 677.42216, 'y': 197.97662, 'width': 867...</td>\n",
       "      <td>opacity 1 677.42216 197.97662 1545.21983 1197....</td>\n",
       "      <td>9d514ce429a7</td>\n",
       "      <td>Typical Appearance</td>\n",
       "      <td>/media/luisa/Volume/AML/siim-covid19-detection...</td>\n",
       "      <td>0012ff7358bc.dcm</td>\n",
       "      <td>(2544, 3056)</td>\n",
       "    </tr>\n",
       "    <tr>\n",
       "      <th>3</th>\n",
       "      <td>001398f4ff4f_image</td>\n",
       "      <td>[{'x': 2729, 'y': 2181.33331, 'width': 948.000...</td>\n",
       "      <td>opacity 1 2729 2181.33331 3677.00012 2785.33331</td>\n",
       "      <td>28dddc8559b2</td>\n",
       "      <td>Atypical Appearance</td>\n",
       "      <td>/media/luisa/Volume/AML/siim-covid19-detection...</td>\n",
       "      <td>001398f4ff4f.dcm</td>\n",
       "      <td>(3520, 4280)</td>\n",
       "    </tr>\n",
       "    <tr>\n",
       "      <th>4</th>\n",
       "      <td>001bd15d1891_image</td>\n",
       "      <td>[{'x': 623.23328, 'y': 1050, 'width': 714, 'he...</td>\n",
       "      <td>opacity 1 623.23328 1050 1337.23328 2156 opaci...</td>\n",
       "      <td>dfd9fdd85a3e</td>\n",
       "      <td>Typical Appearance</td>\n",
       "      <td>/media/luisa/Volume/AML/siim-covid19-detection...</td>\n",
       "      <td>001bd15d1891.dcm</td>\n",
       "      <td>(2800, 3408)</td>\n",
       "    </tr>\n",
       "  </tbody>\n",
       "</table>\n",
       "</div>"
      ],
      "text/plain": [
       "                   id                                              boxes  \\\n",
       "0  000a312787f2_image  [{'x': 789.28836, 'y': 582.43035, 'width': 102...   \n",
       "1  000c3a3f293f_image                                                NaN   \n",
       "2  0012ff7358bc_image  [{'x': 677.42216, 'y': 197.97662, 'width': 867...   \n",
       "3  001398f4ff4f_image  [{'x': 2729, 'y': 2181.33331, 'width': 948.000...   \n",
       "4  001bd15d1891_image  [{'x': 623.23328, 'y': 1050, 'width': 714, 'he...   \n",
       "\n",
       "                                               label StudyInstanceUID  \\\n",
       "0  opacity 1 789.28836 582.43035 1815.94498 2499....     5776db0cec75   \n",
       "1                                     none 1 0 0 1 1     ff0879eb20ed   \n",
       "2  opacity 1 677.42216 197.97662 1545.21983 1197....     9d514ce429a7   \n",
       "3    opacity 1 2729 2181.33331 3677.00012 2785.33331     28dddc8559b2   \n",
       "4  opacity 1 623.23328 1050 1337.23328 2156 opaci...     dfd9fdd85a3e   \n",
       "\n",
       "              study_label                                               path  \\\n",
       "0      Typical Appearance  /media/luisa/Volume/AML/siim-covid19-detection...   \n",
       "1  Negative for Pneumonia  /media/luisa/Volume/AML/siim-covid19-detection...   \n",
       "2      Typical Appearance  /media/luisa/Volume/AML/siim-covid19-detection...   \n",
       "3     Atypical Appearance  /media/luisa/Volume/AML/siim-covid19-detection...   \n",
       "4      Typical Appearance  /media/luisa/Volume/AML/siim-covid19-detection...   \n",
       "\n",
       "              image    image_size  \n",
       "0  000a312787f2.dcm  (3488, 4256)  \n",
       "1  000c3a3f293f.dcm  (2320, 2832)  \n",
       "2  0012ff7358bc.dcm  (2544, 3056)  \n",
       "3  001398f4ff4f.dcm  (3520, 4280)  \n",
       "4  001bd15d1891.dcm  (2800, 3408)  "
      ]
     },
     "execution_count": 12,
     "metadata": {},
     "output_type": "execute_result"
    }
   ],
   "source": [
    "clean_data.head()"
   ]
  },
  {
   "cell_type": "code",
   "execution_count": 29,
   "id": "1c948f4d-92ae-4446-b5f4-06d8218bcae3",
   "metadata": {},
   "outputs": [],
   "source": [
    "# add column with boxes as array\n",
    "\n",
    "boxes_arr = []\n",
    "for i in clean_data['boxes']:\n",
    "    if i is np.NaN:\n",
    "        b = []\n",
    "    else:\n",
    "        b = []\n",
    "        a = ast.literal_eval(i)\n",
    "        for j in a:\n",
    "            x_min = j['x']\n",
    "            y_min = j['y']\n",
    "            x_max = j['x'] + j['width']\n",
    "            y_max = j['y'] + j['height']\n",
    "            b.append([x_min, y_min, x_max, y_max])\n",
    "            \n",
    "        \n",
    "    boxes_arr.append(b)\n",
    "        \n",
    "clean_data['boxes_arr'] = boxes_arr"
   ]
  },
  {
   "cell_type": "code",
   "execution_count": 76,
   "id": "f1181154-3c15-4641-be29-9695273037bd",
   "metadata": {},
   "outputs": [],
   "source": [
    "clean_data['boxes_per_img'] = [len(i) for i in clean_data['boxes_arr']]"
   ]
  },
  {
   "cell_type": "code",
   "execution_count": 77,
   "id": "b62eed5d-e820-4d15-9f8a-e05663ae11c4",
   "metadata": {},
   "outputs": [
    {
     "data": {
      "text/html": [
       "<div>\n",
       "<style scoped>\n",
       "    .dataframe tbody tr th:only-of-type {\n",
       "        vertical-align: middle;\n",
       "    }\n",
       "\n",
       "    .dataframe tbody tr th {\n",
       "        vertical-align: top;\n",
       "    }\n",
       "\n",
       "    .dataframe thead th {\n",
       "        text-align: right;\n",
       "    }\n",
       "</style>\n",
       "<table border=\"1\" class=\"dataframe\">\n",
       "  <thead>\n",
       "    <tr style=\"text-align: right;\">\n",
       "      <th></th>\n",
       "      <th>id</th>\n",
       "      <th>boxes</th>\n",
       "      <th>label</th>\n",
       "      <th>StudyInstanceUID</th>\n",
       "      <th>study_label</th>\n",
       "      <th>path</th>\n",
       "      <th>image</th>\n",
       "      <th>image_size</th>\n",
       "      <th>boxes_arr</th>\n",
       "      <th>boxes_per_img</th>\n",
       "    </tr>\n",
       "  </thead>\n",
       "  <tbody>\n",
       "    <tr>\n",
       "      <th>0</th>\n",
       "      <td>000a312787f2_image</td>\n",
       "      <td>[{'x': 789.28836, 'y': 582.43035, 'width': 102...</td>\n",
       "      <td>opacity 1 789.28836 582.43035 1815.94498 2499....</td>\n",
       "      <td>5776db0cec75</td>\n",
       "      <td>Typical Appearance</td>\n",
       "      <td>/media/luisa/Volume/AML/siim-covid19-detection...</td>\n",
       "      <td>000a312787f2.dcm</td>\n",
       "      <td>(3488, 4256)</td>\n",
       "      <td>[[789.28836, 582.43035, 1815.94498, 2499.73327...</td>\n",
       "      <td>2</td>\n",
       "    </tr>\n",
       "    <tr>\n",
       "      <th>1</th>\n",
       "      <td>000c3a3f293f_image</td>\n",
       "      <td>NaN</td>\n",
       "      <td>none 1 0 0 1 1</td>\n",
       "      <td>ff0879eb20ed</td>\n",
       "      <td>Negative for Pneumonia</td>\n",
       "      <td>/media/luisa/Volume/AML/siim-covid19-detection...</td>\n",
       "      <td>000c3a3f293f.dcm</td>\n",
       "      <td>(2320, 2832)</td>\n",
       "      <td>[]</td>\n",
       "      <td>0</td>\n",
       "    </tr>\n",
       "    <tr>\n",
       "      <th>2</th>\n",
       "      <td>0012ff7358bc_image</td>\n",
       "      <td>[{'x': 677.42216, 'y': 197.97662, 'width': 867...</td>\n",
       "      <td>opacity 1 677.42216 197.97662 1545.21983 1197....</td>\n",
       "      <td>9d514ce429a7</td>\n",
       "      <td>Typical Appearance</td>\n",
       "      <td>/media/luisa/Volume/AML/siim-covid19-detection...</td>\n",
       "      <td>0012ff7358bc.dcm</td>\n",
       "      <td>(2544, 3056)</td>\n",
       "      <td>[[677.42216, 197.97662, 1545.21983, 1197.75876...</td>\n",
       "      <td>2</td>\n",
       "    </tr>\n",
       "    <tr>\n",
       "      <th>3</th>\n",
       "      <td>001398f4ff4f_image</td>\n",
       "      <td>[{'x': 2729, 'y': 2181.33331, 'width': 948.000...</td>\n",
       "      <td>opacity 1 2729 2181.33331 3677.00012 2785.33331</td>\n",
       "      <td>28dddc8559b2</td>\n",
       "      <td>Atypical Appearance</td>\n",
       "      <td>/media/luisa/Volume/AML/siim-covid19-detection...</td>\n",
       "      <td>001398f4ff4f.dcm</td>\n",
       "      <td>(3520, 4280)</td>\n",
       "      <td>[[2729, 2181.33331, 3677.00012, 2785.33331]]</td>\n",
       "      <td>1</td>\n",
       "    </tr>\n",
       "    <tr>\n",
       "      <th>4</th>\n",
       "      <td>001bd15d1891_image</td>\n",
       "      <td>[{'x': 623.23328, 'y': 1050, 'width': 714, 'he...</td>\n",
       "      <td>opacity 1 623.23328 1050 1337.23328 2156 opaci...</td>\n",
       "      <td>dfd9fdd85a3e</td>\n",
       "      <td>Typical Appearance</td>\n",
       "      <td>/media/luisa/Volume/AML/siim-covid19-detection...</td>\n",
       "      <td>001bd15d1891.dcm</td>\n",
       "      <td>(2800, 3408)</td>\n",
       "      <td>[[623.23328, 1050, 1337.23328, 2156], [2578.56...</td>\n",
       "      <td>2</td>\n",
       "    </tr>\n",
       "  </tbody>\n",
       "</table>\n",
       "</div>"
      ],
      "text/plain": [
       "                   id                                              boxes  \\\n",
       "0  000a312787f2_image  [{'x': 789.28836, 'y': 582.43035, 'width': 102...   \n",
       "1  000c3a3f293f_image                                                NaN   \n",
       "2  0012ff7358bc_image  [{'x': 677.42216, 'y': 197.97662, 'width': 867...   \n",
       "3  001398f4ff4f_image  [{'x': 2729, 'y': 2181.33331, 'width': 948.000...   \n",
       "4  001bd15d1891_image  [{'x': 623.23328, 'y': 1050, 'width': 714, 'he...   \n",
       "\n",
       "                                               label StudyInstanceUID  \\\n",
       "0  opacity 1 789.28836 582.43035 1815.94498 2499....     5776db0cec75   \n",
       "1                                     none 1 0 0 1 1     ff0879eb20ed   \n",
       "2  opacity 1 677.42216 197.97662 1545.21983 1197....     9d514ce429a7   \n",
       "3    opacity 1 2729 2181.33331 3677.00012 2785.33331     28dddc8559b2   \n",
       "4  opacity 1 623.23328 1050 1337.23328 2156 opaci...     dfd9fdd85a3e   \n",
       "\n",
       "              study_label                                               path  \\\n",
       "0      Typical Appearance  /media/luisa/Volume/AML/siim-covid19-detection...   \n",
       "1  Negative for Pneumonia  /media/luisa/Volume/AML/siim-covid19-detection...   \n",
       "2      Typical Appearance  /media/luisa/Volume/AML/siim-covid19-detection...   \n",
       "3     Atypical Appearance  /media/luisa/Volume/AML/siim-covid19-detection...   \n",
       "4      Typical Appearance  /media/luisa/Volume/AML/siim-covid19-detection...   \n",
       "\n",
       "              image    image_size  \\\n",
       "0  000a312787f2.dcm  (3488, 4256)   \n",
       "1  000c3a3f293f.dcm  (2320, 2832)   \n",
       "2  0012ff7358bc.dcm  (2544, 3056)   \n",
       "3  001398f4ff4f.dcm  (3520, 4280)   \n",
       "4  001bd15d1891.dcm  (2800, 3408)   \n",
       "\n",
       "                                           boxes_arr  boxes_per_img  \n",
       "0  [[789.28836, 582.43035, 1815.94498, 2499.73327...              2  \n",
       "1                                                 []              0  \n",
       "2  [[677.42216, 197.97662, 1545.21983, 1197.75876...              2  \n",
       "3       [[2729, 2181.33331, 3677.00012, 2785.33331]]              1  \n",
       "4  [[623.23328, 1050, 1337.23328, 2156], [2578.56...              2  "
      ]
     },
     "execution_count": 77,
     "metadata": {},
     "output_type": "execute_result"
    }
   ],
   "source": [
    "clean_data.head()\n"
   ]
  },
  {
   "cell_type": "code",
   "execution_count": 106,
   "id": "bda168eb-9a24-40de-a145-bf62c404cd67",
   "metadata": {},
   "outputs": [
    {
     "name": "stdout",
     "output_type": "stream",
     "text": [
      "total number of images: 6086\n",
      "maximum num boxes per image: 8\n",
      "number of images with more than 3 boxes: 25\n",
      "number of images with more than 2 boxes: 208\n"
     ]
    },
    {
     "data": {
      "image/png": "[encoded data removed]",
      "text/plain": [
       "<Figure size 432x288 with 1 Axes>"
      ]
     },
     "metadata": {
      "needs_background": "light"
     },
     "output_type": "display_data"
    }
   ],
   "source": [
    "#hist = clean_data['boxes_per_img'].hist(bins = 10)\n",
    "print('total number of images: ' + str(len(clean_data)))\n",
    "print('maximum num boxes per image: ' + str(max(clean_data['boxes_per_img'])))\n",
    "print('number of images with more than 3 boxes: ' + str(len(clean_data[clean_data['boxes_per_img'] >3])))\n",
    "print('number of images with more than 2 boxes: ' + str(len(clean_data[clean_data['boxes_per_img'] >2])))\n",
    "\n",
    "counts, bins = np.histogram(clean_data['boxes_per_img'])\n",
    "plt.hist(bins[:-1], bins, weights=counts, label = 'Bounding boxes per image')\n",
    "plt.legend()\n",
    "plt.savefig('/media/luisa/Volume/AML/report_imgs/boxes_per_img.png')\n",
    "plt.show()\n"
   ]
  },
  {
   "cell_type": "code",
   "execution_count": 160,
   "id": "474fdca5-d656-40ca-8985-7375112277de",
   "metadata": {},
   "outputs": [],
   "source": [
    "# array with aspect ratios of all bounding boxes\n",
    "aspect_ratios = []\n",
    "# arrays with width and height of all bounding boxes\n",
    "boxes_w_h = []\n",
    "\n",
    "for i in clean_data['boxes_arr']:\n",
    "\n",
    "    for j in i:\n",
    "        w = j[2]- j[0]\n",
    "        h = j[3]- j[1]\n",
    "        ratio = w/h\n",
    "        \n",
    "        aspect_ratios.append(ratio)\n",
    "        boxes_w_h.append([w, h])\n",
    "        \n",
    "aspect_ratios = np.array(aspect_ratios)    \n",
    "boxes_w_h = np.array(boxes_w_h)\n",
    "\n",
    "\n",
    "\n"
   ]
  },
  {
   "cell_type": "code",
   "execution_count": 168,
   "id": "45d7eaf5-a2b5-4812-b657-ae45677eef96",
   "metadata": {},
   "outputs": [
    {
     "data": {
      "image/png": "[encoded data removed]",
      "text/plain": [
       "<Figure size 432x288 with 1 Axes>"
      ]
     },
     "metadata": {
      "needs_background": "light"
     },
     "output_type": "display_data"
    }
   ],
   "source": [
    "plt.hist(aspect_ratios, bins = 100, label = 'Aspect ratios')\n",
    "plt.legend()\n",
    "plt.savefig('/media/luisa/Volume/AML/report_imgs/aspect_ratios_all.png')\n",
    "plt.show()\n",
    "\n",
    "#"
   ]
  },
  {
   "cell_type": "code",
   "execution_count": 169,
   "id": "866ba4d1-6e5c-4af1-9098-0c9d99c8052f",
   "metadata": {},
   "outputs": [
    {
     "data": {
      "image/png": "[encoded data removed]",
      "text/plain": [
       "<Figure size 432x288 with 1 Axes>"
      ]
     },
     "metadata": {
      "needs_background": "light"
     },
     "output_type": "display_data"
    }
   ],
   "source": [
    "plt.hist(aspect_ratios, bins = 100, range = (0.2, 1.5), label = 'Aspect ratios')\n",
    "plt.legend()\n",
    "plt.savefig('/media/luisa/Volume/AML/report_imgs/aspect_ratios_range.png')\n",
    "plt.show()\n",
    "\n"
   ]
  },
  {
   "cell_type": "code",
   "execution_count": 163,
   "id": "b7813466-dfa7-4e4b-a7a9-e544ed5adbd7",
   "metadata": {},
   "outputs": [
    {
     "name": "stdout",
     "output_type": "stream",
     "text": [
      "[1 1 5 ... 6 0 0]\n"
     ]
    },
    {
     "data": {
      "image/png": "[encoded data removed]",
      "text/plain": [
       "<Figure size 432x288 with 1 Axes>"
      ]
     },
     "metadata": {
      "needs_background": "light"
     },
     "output_type": "display_data"
    },
    {
     "name": "stdout",
     "output_type": "stream",
     "text": [
      "centroid: [438.31361929 578.94679298]\n",
      "ratio: 0.7570879131013657\n",
      "\n",
      "centroid: [1060.22815026 1814.6414895 ]\n",
      "ratio: 0.5842631486152147\n",
      "\n",
      "centroid: [ 732.55458658 1533.72639573]\n",
      "ratio: 0.4776305530212281\n",
      "\n",
      "centroid: [1037.68739171 1364.07614424]\n",
      "ratio: 0.7607254155797979\n",
      "\n",
      "centroid: [1296.69396799 2309.12859494]\n",
      "ratio: 0.5615512149624893\n",
      "\n",
      "centroid: [951.87845664 913.63210365]\n",
      "ratio: 1.0418618750755897\n",
      "\n",
      "centroid: [542.99805694 897.89734594]\n",
      "ratio: 0.6047440271365904\n",
      "\n",
      "centroid: [730.07935054 589.29442261]\n",
      "ratio: 1.2389042260116867\n",
      "\n",
      "centroid: [326.26805582 329.52262204]\n",
      "ratio: 0.9901233906275981\n",
      "\n",
      "centroid: [ 666.88104667 1182.20058336]\n",
      "ratio: 0.5641014359596646\n",
      "\n"
     ]
    }
   ],
   "source": [
    "# k means\n",
    "\n",
    "kmeans = KMeans(n_clusters= 10)\n",
    " \n",
    "#predict the labels of clusters.\n",
    "label = kmeans.fit_predict(boxes_w_h)\n",
    "print(label)\n",
    "\n",
    "unique_labels = np.unique(label)\n",
    "centroids = kmeans.cluster_centers_\n",
    "for i in unique_labels:\n",
    "    plt.scatter(boxes_w_h[label == i , 0] , boxes_w_h[label == i , 1] , label = i)\n",
    "plt.scatter(centroids[:,0] , centroids[:,1] , s = 80)\n",
    "    \n",
    "plt.legend()\n",
    "plt.savefig('/media/luisa/Volume/AML/report_imgs/kmeans.png')\n",
    "plt.show()\n",
    "\n",
    "for i in centroids:\n",
    "    print('centroid: '+ str(i))\n",
    "    print('ratio: ' + str(i[0]/i[1]))\n",
    "    print()\n",
    "#print(centroids)"
   ]
  },
  {
   "cell_type": "code",
   "execution_count": 56,
   "id": "f73816c8-1991-4d81-9fb7-c34bc109e547",
   "metadata": {},
   "outputs": [
    {
     "name": "stdout",
     "output_type": "stream",
     "text": [
      "max aspect ratio 4.078948092609048\n",
      "min aspect ratio 0.07831357919504249\n"
     ]
    }
   ],
   "source": [
    "print('max aspect ratio ' + str(max(aspect_ratios)))\n",
    "print('min aspect ratio '+ str(min(aspect_ratios)))"
   ]
  },
  {
   "cell_type": "code",
   "execution_count": 170,
   "id": "4af3ecbf-addc-4795-ab84-a8283e8983a5",
   "metadata": {},
   "outputs": [
    {
     "name": "stdout",
     "output_type": "stream",
     "text": [
      "aspect ratios chosen for Faster R-CNN: 1,  0.8, 0.6\n"
     ]
    }
   ],
   "source": [
    "print('aspect ratios chosen for Faster R-CNN: 1,  0.8, 0.6')"
   ]
  },
  {
   "cell_type": "code",
   "execution_count": null,
   "id": "033c5916-b0ae-49d4-b437-db801e214f6d",
   "metadata": {},
   "outputs": [],
   "source": []
  },
  {
   "cell_type": "code",
   "execution_count": null,
   "id": "52554660-0462-4968-905d-003da7976eef",
   "metadata": {},
   "outputs": [],
   "source": [
    "# sizes after resizing:\n",
    "for i in centroids:\n",
    "    "
   ]
  }
 ],
 "metadata": {
  "kernelspec": {
   "display_name": "Python 3",
   "language": "python",
   "name": "python3"
  },
  "language_info": {
   "codemirror_mode": {
    "name": "ipython",
    "version": 3
   },
   "file_extension": ".py",
   "mimetype": "text/x-python",
   "name": "python",
   "nbconvert_exporter": "python",
   "pygments_lexer": "ipython3",
   "version": "3.9.4"
  }
 },
 "nbformat": 4,
 "nbformat_minor": 5
}
